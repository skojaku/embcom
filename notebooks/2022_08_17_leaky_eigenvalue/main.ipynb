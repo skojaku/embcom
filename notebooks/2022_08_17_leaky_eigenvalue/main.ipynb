{
 "cells": [
  {
   "cell_type": "markdown",
   "metadata": {},
   "source": [
    "# Demonstrating the leaky eigenvalue problem "
   ]
  },
  {
   "cell_type": "code",
   "execution_count": 1,
   "metadata": {},
   "outputs": [],
   "source": [
    "import numpy as np \n",
    "from scipy import sparse \n",
    "import graph_tool.all as gt\n",
    "import pandas as pd\n",
    "from scipy import sparse, stats\n",
    "from scipy.sparse.csgraph import connected_components\n",
    "import matplotlib.pyplot as plt \n",
    "import seaborn as sns  "
   ]
  },
  {
   "cell_type": "markdown",
   "metadata": {},
   "source": [
    "### Generate a network"
   ]
  },
  {
   "cell_type": "code",
   "execution_count": 2,
   "metadata": {},
   "outputs": [],
   "source": [
    "# Generating the stocahstic block model \n",
    "def generate_network(Cave, mixing_rate, N, q):\n",
    "\n",
    "    memberships = np.sort(np.arange(N) % q)\n",
    "\n",
    "    q = int(np.max(memberships) + 1)\n",
    "    N = len(memberships)\n",
    "    U = sparse.csr_matrix((np.ones(N), (np.arange(N), memberships)), shape=(N, q))\n",
    "\n",
    "    Cout = np.maximum(1, mixing_rate * Cave)\n",
    "    Cin = q * Cave - (q - 1) * Cout\n",
    "    pout = Cout / N\n",
    "    pin = Cin / N\n",
    "\n",
    "    Nk = np.array(U.sum(axis=0)).reshape(-1)\n",
    "\n",
    "    P = np.ones((q, q)) * pout + np.eye(q) * (pin - pout)\n",
    "    probs = np.diag(Nk) @ P @ np.diag(Nk)\n",
    "    gt_params = {\n",
    "        \"b\": memberships,\n",
    "        \"probs\": probs,\n",
    "        \"micro_degs\": False,\n",
    "        \"in_degs\": np.ones_like(memberships) * Cave,\n",
    "        \"out_degs\": np.ones_like(memberships) * Cave,\n",
    "    }\n",
    "\n",
    "    # Generate the network until the degree sequence\n",
    "    # satisfied the thresholds\n",
    "    while True:\n",
    "        g = gt.generate_sbm(**gt_params)\n",
    "\n",
    "        A = gt.adjacency(g).T\n",
    "\n",
    "        A.data = np.ones_like(A.data)\n",
    "        # check if the graph is connected\n",
    "        if connected_components(A)[0] == 1:\n",
    "            break\n",
    "        break\n",
    "    return A, memberships\n",
    "\n",
    "N = 10000\n",
    "q = 2\n",
    "mixing_rate = 0.2\n",
    "net_list = {}\n",
    "for cave in [5, 50]:\n",
    "    A, membership = generate_network(cave, mixing_rate, N, q)\n",
    "    net_list[cave] = {\"A\":A, \"membership\":membership}"
   ]
  },
  {
   "cell_type": "markdown",
   "metadata": {},
   "source": [
    "### Calculate the eigenvalues "
   ]
  },
  {
   "cell_type": "code",
   "execution_count": 3,
   "metadata": {},
   "outputs": [
    {
     "data": {
      "application/vnd.jupyter.widget-view+json": {
       "model_id": "8f838bb11d7b448abe3d4c1de805d346",
       "version_major": 2,
       "version_minor": 0
      },
      "text/plain": [
       "  0%|          | 0/2 [00:00<?, ?it/s]"
      ]
     },
     "metadata": {},
     "output_type": "display_data"
    }
   ],
   "source": [
    "from tqdm.auto import tqdm \n",
    "\n",
    "eigenvals_list = {}\n",
    "for cave, net in tqdm(net_list.items()):\n",
    "    A = net[\"A\"]\n",
    "    #eigenvals, eigenvec = sparse.linalg.eigsh(A, k = n_eigenvals)\n",
    "    eigenvals = np.linalg.eigvalsh(A.toarray())\n",
    "    eigenvals_list[cave] = np.real(eigenvals)\n",
    "    #eigenvec_list[cave] = np.real(eigenvec)"
   ]
  },
  {
   "cell_type": "markdown",
   "metadata": {},
   "source": [
    "# Plot the eigenvalue distribution "
   ]
  },
  {
   "cell_type": "code",
   "execution_count": 7,
   "metadata": {},
   "outputs": [
    {
     "data": {
      "image/png": "[encoded data removed]",
      "text/plain": [
       "<Figure size 720x360 with 2 Axes>"
      ]
     },
     "metadata": {},
     "output_type": "display_data"
    }
   ],
   "source": []
  },
  {
   "cell_type": "code",
   "execution_count": null,
   "metadata": {},
   "outputs": [],
   "source": [
    "# %%\n",
    "from sklearn.cluster import KMeans\n",
    "from sklearn.metrics.cluster import normalized_mutual_info_score\n",
    "\n",
    "sns.set_style('white')\n",
    "sns.set(font_scale=1.2)\n",
    "sns.set_style('ticks')\n",
    "fig, axes = plt.subplots(figsize=(10,5), ncols = 2)\n",
    "\n",
    "for i, (cave, eigenvals) in enumerate(eigenvals_list.items()):\n",
    "\n",
    "    threshold = 2 * np.sqrt(cave)\n",
    "\n",
    "    #emb = eigenvec_list[cave]\n",
    "    #order = np.argsort(eigenvals)\n",
    "    #kmeans = KMeans(n_clusters=2, random_state=0).fit(emb[:, order[-2]].reshape((-1, 1)))\n",
    "    #score = normalized_mutual_info_score(kmeans.labels_, membership) \n",
    "\n",
    "    order = np.argsort(np.abs(eigenvals))\n",
    "    x = eigenvals[order[:-2]]\n",
    "\n",
    "    ax = sns.histplot(x, ax = axes[i], bins = 30, color = \"#8d8d8d\")\n",
    "    \n",
    "    ax.axvline(eigenvals[order[-2]], color = \"red\")\n",
    "    \n",
    "    ax.axvline(threshold, ls = \":\", color = \"k\")\n",
    "    ax.axvline(-threshold, ls = \":\", color = \"k\")\n",
    "    ax.set_ylabel(\"\")\n",
    "    ax.set_title(cave)\n",
    "sns.despine() \n",
    "fig.savefig(\"demo_leaky_eigenvalue_problem.pdf\", bbox_inches='tight', dpi=300)"
   ]
  },
  {
   "cell_type": "code",
   "execution_count": 98,
   "metadata": {},
   "outputs": [
    {
     "data": {
      "text/plain": [
       "0.5527864045000421"
      ]
     },
     "execution_count": 98,
     "metadata": {},
     "output_type": "execute_result"
    }
   ],
   "source": [
    " 1 - 1/np.sqrt(5)"
   ]
  },
  {
   "cell_type": "code",
   "execution_count": null,
   "metadata": {},
   "outputs": [],
   "source": [
    "emb = np.einsum(\"ij,i->ij\", emb, 1 / np.linalg.norm(emb, axis=1))"
   ]
  }
 ],
 "metadata": {
  "kernelspec": {
   "display_name": "Python 3.9.7 ('authordynamics')",
   "language": "python",
   "name": "python3"
  },
  "language_info": {
   "codemirror_mode": {
    "name": "ipython",
    "version": 3
   },
   "file_extension": ".py",
   "mimetype": "text/x-python",
   "name": "python",
   "nbconvert_exporter": "python",
   "pygments_lexer": "ipython3",
   "version": "3.9.7"
  },
  "orig_nbformat": 4,
  "vscode": {
   "interpreter": {
    "hash": "4ba3cc8ac23911f9837f125f410aa79985736e9a53ede8675efb0dd78c13842c"
   }
  }
 },
 "nbformat": 4,
 "nbformat_minor": 2
}
